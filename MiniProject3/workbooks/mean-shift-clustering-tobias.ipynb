{
 "cells": [
  {
   "cell_type": "markdown",
   "metadata": {},
   "source": [
    "# Mean Shift Clustering"
   ]
  },
  {
   "cell_type": "markdown",
   "metadata": {},
   "source": [
    "## Step 1: Environment"
   ]
  },
  {
   "cell_type": "code",
   "execution_count": 1,
   "metadata": {},
   "outputs": [],
   "source": [
    "import numpy as np\n",
    "import pandas as pd\n",
    "\n",
    "from sklearn.cluster import  MeanShift, estimate_bandwidth\n",
    "\n",
    "from sklearn import metrics\n",
    "import matplotlib.pyplot as plt\n",
    "\n",
    "\n",
    "from scipy.spatial.distance import cdist\n",
    "\n",
    "import seaborn as sns\n",
    "import plotly.express as pxp\n",
    "import plotly.graph_objs as gph\n"
   ]
  },
  {
   "cell_type": "markdown",
   "metadata": {},
   "source": [
    "## Step 2: Data Preparation"
   ]
  },
  {
   "cell_type": "code",
   "execution_count": 2,
   "metadata": {},
   "outputs": [],
   "source": [
    "# !pwd"
   ]
  },
  {
   "cell_type": "code",
   "execution_count": 5,
   "metadata": {},
   "outputs": [
    {
     "name": "stdout",
     "output_type": "stream",
     "text": [
      "      Age  BusinessTravel  DailyRate  Department  DistanceFromHome  Education  \\\n",
      "0      41               0       1102           0                 1          2   \n",
      "1      49               1        279           1                 8          1   \n",
      "2      37               0       1373           1                 2          2   \n",
      "3      33               1       1392           1                 3          4   \n",
      "4      27               0        591           1                 2          1   \n",
      "...   ...             ...        ...         ...               ...        ...   \n",
      "1465   36               1        884           1                23          2   \n",
      "1466   39               0        613           1                 6          1   \n",
      "1467   27               0        155           1                 4          3   \n",
      "1468   49               1       1023           0                 2          3   \n",
      "1469   34               0        628           1                 8          3   \n",
      "\n",
      "      EducationField  EnvironmentSatisfaction  Gender  HourlyRate  ...  \\\n",
      "0                  0                        2       0          94  ...   \n",
      "1                  0                        3       1          61  ...   \n",
      "2                  1                        4       1          92  ...   \n",
      "3                  0                        4       0          56  ...   \n",
      "4                  2                        1       1          40  ...   \n",
      "...              ...                      ...     ...         ...  ...   \n",
      "1465               2                        3       1          41  ...   \n",
      "1466               2                        4       1          42  ...   \n",
      "1467               0                        2       1          87  ...   \n",
      "1468               2                        4       1          63  ...   \n",
      "1469               2                        2       1          82  ...   \n",
      "\n",
      "      PerformanceRating  RelationshipSatisfaction  StockOptionLevel  \\\n",
      "0                     3                         1                 0   \n",
      "1                     4                         4                 1   \n",
      "2                     3                         2                 0   \n",
      "3                     3                         3                 0   \n",
      "4                     3                         4                 1   \n",
      "...                 ...                       ...               ...   \n",
      "1465                  3                         3                 1   \n",
      "1466                  3                         1                 1   \n",
      "1467                  4                         2                 1   \n",
      "1468                  3                         4                 0   \n",
      "1469                  3                         1                 0   \n",
      "\n",
      "      TotalWorkingYears  TrainingTimesLastYear  WorkLifeBalance  \\\n",
      "0                     8                      0                1   \n",
      "1                    10                      3                3   \n",
      "2                     7                      3                3   \n",
      "3                     8                      3                3   \n",
      "4                     6                      3                3   \n",
      "...                 ...                    ...              ...   \n",
      "1465                 17                      3                3   \n",
      "1466                  9                      5                3   \n",
      "1467                  6                      0                3   \n",
      "1468                 17                      3                2   \n",
      "1469                  6                      3                4   \n",
      "\n",
      "      YearsAtCompany  YearsInCurrentRole  YearsSinceLastPromotion  \\\n",
      "0                  6                   4                        0   \n",
      "1                 10                   7                        1   \n",
      "2                  0                   0                        0   \n",
      "3                  8                   7                        3   \n",
      "4                  2                   2                        2   \n",
      "...              ...                 ...                      ...   \n",
      "1465               5                   2                        0   \n",
      "1466               7                   7                        1   \n",
      "1467               6                   2                        0   \n",
      "1468               9                   6                        0   \n",
      "1469               4                   3                        1   \n",
      "\n",
      "      YearsWithCurrManager  \n",
      "0                        5  \n",
      "1                        7  \n",
      "2                        0  \n",
      "3                        0  \n",
      "4                        2  \n",
      "...                    ...  \n",
      "1465                     3  \n",
      "1466                     7  \n",
      "1467                     3  \n",
      "1468                     8  \n",
      "1469                     2  \n",
      "\n",
      "[1470 rows x 30 columns]\n"
     ]
    }
   ],
   "source": [
    "# Load input data\n",
    "# X = np.loadtxt('../data/data_clustering.txt', delimiter=',')\n",
    "x = pd.read_csv('../data/Emp-Attrition-Initial-Clean.csv', delimiter=',')\n",
    "x = x.drop(columns=['Attrition'])\n",
    "print(x)"
   ]
  },
  {
   "cell_type": "code",
   "execution_count": 9,
   "metadata": {},
   "outputs": [
    {
     "data": {
      "text/plain": [
       "(1470, 30)"
      ]
     },
     "execution_count": 9,
     "metadata": {},
     "output_type": "execute_result"
    }
   ],
   "source": [
    "x.shape"
   ]
  },
  {
   "cell_type": "code",
   "execution_count": 11,
   "metadata": {},
   "outputs": [
    {
     "data": {
      "text/html": [
       "<div>\n",
       "<style scoped>\n",
       "    .dataframe tbody tr th:only-of-type {\n",
       "        vertical-align: middle;\n",
       "    }\n",
       "\n",
       "    .dataframe tbody tr th {\n",
       "        vertical-align: top;\n",
       "    }\n",
       "\n",
       "    .dataframe thead th {\n",
       "        text-align: right;\n",
       "    }\n",
       "</style>\n",
       "<table border=\"1\" class=\"dataframe\">\n",
       "  <thead>\n",
       "    <tr style=\"text-align: right;\">\n",
       "      <th></th>\n",
       "      <th>Age</th>\n",
       "      <th>BusinessTravel</th>\n",
       "      <th>DailyRate</th>\n",
       "      <th>Department</th>\n",
       "      <th>DistanceFromHome</th>\n",
       "      <th>Education</th>\n",
       "      <th>EducationField</th>\n",
       "      <th>EnvironmentSatisfaction</th>\n",
       "      <th>Gender</th>\n",
       "      <th>HourlyRate</th>\n",
       "      <th>...</th>\n",
       "      <th>PerformanceRating</th>\n",
       "      <th>RelationshipSatisfaction</th>\n",
       "      <th>StockOptionLevel</th>\n",
       "      <th>TotalWorkingYears</th>\n",
       "      <th>TrainingTimesLastYear</th>\n",
       "      <th>WorkLifeBalance</th>\n",
       "      <th>YearsAtCompany</th>\n",
       "      <th>YearsInCurrentRole</th>\n",
       "      <th>YearsSinceLastPromotion</th>\n",
       "      <th>YearsWithCurrManager</th>\n",
       "    </tr>\n",
       "  </thead>\n",
       "  <tbody>\n",
       "    <tr>\n",
       "      <th>0</th>\n",
       "      <td>41</td>\n",
       "      <td>0</td>\n",
       "      <td>1102</td>\n",
       "      <td>0</td>\n",
       "      <td>1</td>\n",
       "      <td>2</td>\n",
       "      <td>0</td>\n",
       "      <td>2</td>\n",
       "      <td>0</td>\n",
       "      <td>94</td>\n",
       "      <td>...</td>\n",
       "      <td>3</td>\n",
       "      <td>1</td>\n",
       "      <td>0</td>\n",
       "      <td>8</td>\n",
       "      <td>0</td>\n",
       "      <td>1</td>\n",
       "      <td>6</td>\n",
       "      <td>4</td>\n",
       "      <td>0</td>\n",
       "      <td>5</td>\n",
       "    </tr>\n",
       "    <tr>\n",
       "      <th>1</th>\n",
       "      <td>49</td>\n",
       "      <td>1</td>\n",
       "      <td>279</td>\n",
       "      <td>1</td>\n",
       "      <td>8</td>\n",
       "      <td>1</td>\n",
       "      <td>0</td>\n",
       "      <td>3</td>\n",
       "      <td>1</td>\n",
       "      <td>61</td>\n",
       "      <td>...</td>\n",
       "      <td>4</td>\n",
       "      <td>4</td>\n",
       "      <td>1</td>\n",
       "      <td>10</td>\n",
       "      <td>3</td>\n",
       "      <td>3</td>\n",
       "      <td>10</td>\n",
       "      <td>7</td>\n",
       "      <td>1</td>\n",
       "      <td>7</td>\n",
       "    </tr>\n",
       "    <tr>\n",
       "      <th>2</th>\n",
       "      <td>37</td>\n",
       "      <td>0</td>\n",
       "      <td>1373</td>\n",
       "      <td>1</td>\n",
       "      <td>2</td>\n",
       "      <td>2</td>\n",
       "      <td>1</td>\n",
       "      <td>4</td>\n",
       "      <td>1</td>\n",
       "      <td>92</td>\n",
       "      <td>...</td>\n",
       "      <td>3</td>\n",
       "      <td>2</td>\n",
       "      <td>0</td>\n",
       "      <td>7</td>\n",
       "      <td>3</td>\n",
       "      <td>3</td>\n",
       "      <td>0</td>\n",
       "      <td>0</td>\n",
       "      <td>0</td>\n",
       "      <td>0</td>\n",
       "    </tr>\n",
       "    <tr>\n",
       "      <th>3</th>\n",
       "      <td>33</td>\n",
       "      <td>1</td>\n",
       "      <td>1392</td>\n",
       "      <td>1</td>\n",
       "      <td>3</td>\n",
       "      <td>4</td>\n",
       "      <td>0</td>\n",
       "      <td>4</td>\n",
       "      <td>0</td>\n",
       "      <td>56</td>\n",
       "      <td>...</td>\n",
       "      <td>3</td>\n",
       "      <td>3</td>\n",
       "      <td>0</td>\n",
       "      <td>8</td>\n",
       "      <td>3</td>\n",
       "      <td>3</td>\n",
       "      <td>8</td>\n",
       "      <td>7</td>\n",
       "      <td>3</td>\n",
       "      <td>0</td>\n",
       "    </tr>\n",
       "    <tr>\n",
       "      <th>4</th>\n",
       "      <td>27</td>\n",
       "      <td>0</td>\n",
       "      <td>591</td>\n",
       "      <td>1</td>\n",
       "      <td>2</td>\n",
       "      <td>1</td>\n",
       "      <td>2</td>\n",
       "      <td>1</td>\n",
       "      <td>1</td>\n",
       "      <td>40</td>\n",
       "      <td>...</td>\n",
       "      <td>3</td>\n",
       "      <td>4</td>\n",
       "      <td>1</td>\n",
       "      <td>6</td>\n",
       "      <td>3</td>\n",
       "      <td>3</td>\n",
       "      <td>2</td>\n",
       "      <td>2</td>\n",
       "      <td>2</td>\n",
       "      <td>2</td>\n",
       "    </tr>\n",
       "  </tbody>\n",
       "</table>\n",
       "<p>5 rows × 30 columns</p>\n",
       "</div>"
      ],
      "text/plain": [
       "   Age  BusinessTravel  DailyRate  Department  DistanceFromHome  Education  \\\n",
       "0   41               0       1102           0                 1          2   \n",
       "1   49               1        279           1                 8          1   \n",
       "2   37               0       1373           1                 2          2   \n",
       "3   33               1       1392           1                 3          4   \n",
       "4   27               0        591           1                 2          1   \n",
       "\n",
       "   EducationField  EnvironmentSatisfaction  Gender  HourlyRate  ...  \\\n",
       "0               0                        2       0          94  ...   \n",
       "1               0                        3       1          61  ...   \n",
       "2               1                        4       1          92  ...   \n",
       "3               0                        4       0          56  ...   \n",
       "4               2                        1       1          40  ...   \n",
       "\n",
       "   PerformanceRating  RelationshipSatisfaction  StockOptionLevel  \\\n",
       "0                  3                         1                 0   \n",
       "1                  4                         4                 1   \n",
       "2                  3                         2                 0   \n",
       "3                  3                         3                 0   \n",
       "4                  3                         4                 1   \n",
       "\n",
       "   TotalWorkingYears  TrainingTimesLastYear  WorkLifeBalance  YearsAtCompany  \\\n",
       "0                  8                      0                1               6   \n",
       "1                 10                      3                3              10   \n",
       "2                  7                      3                3               0   \n",
       "3                  8                      3                3               8   \n",
       "4                  6                      3                3               2   \n",
       "\n",
       "   YearsInCurrentRole  YearsSinceLastPromotion  YearsWithCurrManager  \n",
       "0                   4                        0                     5  \n",
       "1                   7                        1                     7  \n",
       "2                   0                        0                     0  \n",
       "3                   7                        3                     0  \n",
       "4                   2                        2                     2  \n",
       "\n",
       "[5 rows x 30 columns]"
      ]
     },
     "execution_count": 11,
     "metadata": {},
     "output_type": "execute_result"
    }
   ],
   "source": [
    "x.head()"
   ]
  },
  {
   "cell_type": "code",
   "execution_count": null,
   "metadata": {},
   "outputs": [],
   "source": [
    "# Select attributes and convert to numpy\n",
    "X = data.iloc[:, 3:5].values\n",
    "X"
   ]
  },
  {
   "cell_type": "markdown",
   "metadata": {},
   "source": [
    "## Step 3: Train and Implement the Model"
   ]
  },
  {
   "cell_type": "markdown",
   "metadata": {},
   "source": [
    "Update the candidates for centroids to be the mean of the points within a given region (also called bandwidth). The overlapping candidates are eliminated to avoid duplicates. There is no need for pre-defined number of clusters."
   ]
  },
  {
   "cell_type": "code",
   "execution_count": null,
   "metadata": {},
   "outputs": [],
   "source": [
    "# Bandwidth/radius is found automatically with\n",
    "bandwidth = estimate_bandwidth(X, quantile=0.2, n_samples=200)\n",
    "bandwidth "
   ]
  },
  {
   "cell_type": "code",
   "execution_count": null,
   "metadata": {},
   "outputs": [],
   "source": [
    "# Train mean-shift model with the data frame\n",
    "msmodel = MeanShift(bandwidth=bandwidth, bin_seeding=True)\n",
    "msmodel.fit(X)"
   ]
  },
  {
   "cell_type": "code",
   "execution_count": null,
   "metadata": {},
   "outputs": [],
   "source": [
    "# get the calculated values \n",
    "labels = msmodel.labels_\n",
    "labels_unique = np.unique(labels)\n",
    "labels_unique"
   ]
  },
  {
   "cell_type": "code",
   "execution_count": null,
   "metadata": {},
   "outputs": [],
   "source": [
    "n_clusters_ = len(labels_unique)\n",
    "n_clusters_"
   ]
  },
  {
   "cell_type": "code",
   "execution_count": null,
   "metadata": {},
   "outputs": [],
   "source": [
    "# See the clusters and cluster centres\n",
    "cluster_centers = msmodel.cluster_centers_\n",
    "cluster_centers"
   ]
  },
  {
   "cell_type": "code",
   "execution_count": null,
   "metadata": {},
   "outputs": [],
   "source": [
    "# Predict the cluster for all the samples for test\n",
    "Y = msmodel.predict(X)\n",
    "Y"
   ]
  },
  {
   "cell_type": "code",
   "execution_count": null,
   "metadata": {},
   "outputs": [],
   "source": [
    "len(msmodel.labels_)"
   ]
  },
  {
   "cell_type": "code",
   "execution_count": null,
   "metadata": {},
   "outputs": [],
   "source": [
    "# Generate scatter plot for the training data\n",
    "# colors = list(map(lambda x: '#3b4cc0' if x == 1 else '#b40426' if x == 2 else '#67c614', P))\n",
    "# s - marker size, here, the dots size\n",
    "# c - marker color, here taken from the predicted clusters\n",
    "plt.scatter(X[:,0], X[:,1], c=labels, marker=\"o\", picker=True)\n",
    "plt.title(f'Estimated number of clusters = {n_clusters_}')\n",
    "plt.xlabel('x')\n",
    "plt.ylabel('y')\n",
    "plt.show()"
   ]
  },
  {
   "cell_type": "code",
   "execution_count": null,
   "metadata": {},
   "outputs": [],
   "source": [
    "# Visualising the clusters in 3D\n",
    "# Plot the points with color code of the predicted clusters\n",
    "# viridis - a color map, https://matplotlib.org/users/colormaps.html\n",
    "fig = plt.figure()\n",
    "plt.title('Discovered Clusters')\n",
    "ax = fig.add_subplot(111, projection='3d')\n",
    "ax.scatter(X[:,0], X[:,1],  marker='o', cmap='viridis', c=labels)\n",
    "ax.scatter(cluster_centers[:,0], cluster_centers[:,1], marker='x', \n",
    "           color='red', s=100, linewidth=3, zorder=10)\n",
    "plt.show()"
   ]
  },
  {
   "cell_type": "markdown",
   "metadata": {},
   "source": [
    "## Store the Model"
   ]
  },
  {
   "cell_type": "code",
   "execution_count": null,
   "metadata": {},
   "outputs": [],
   "source": [
    "# !pip install joblib"
   ]
  },
  {
   "cell_type": "code",
   "execution_count": null,
   "metadata": {},
   "outputs": [],
   "source": [
    "# For serialization and deserialization of data from/to file\n",
    "# from sklearn.externals import joblib\n",
    "import joblib\n",
    "joblib.dump(msmodel, '../data/msmodel.pkl')"
   ]
  },
  {
   "cell_type": "code",
   "execution_count": null,
   "metadata": {},
   "outputs": [],
   "source": []
  }
 ],
 "metadata": {
  "kernelspec": {
   "display_name": "Python [conda env:base] *",
   "language": "python",
   "name": "conda-base-py"
  },
  "language_info": {
   "codemirror_mode": {
    "name": "ipython",
    "version": 3
   },
   "file_extension": ".py",
   "mimetype": "text/x-python",
   "name": "python",
   "nbconvert_exporter": "python",
   "pygments_lexer": "ipython3",
   "version": "3.12.7"
  }
 },
 "nbformat": 4,
 "nbformat_minor": 4
}
