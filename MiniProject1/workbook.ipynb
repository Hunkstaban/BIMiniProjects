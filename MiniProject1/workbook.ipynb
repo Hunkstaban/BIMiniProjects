{
 "cells": [
  {
   "cell_type": "markdown",
   "metadata": {},
   "source": [
    "# Mini Project 1 - Group 10\n",
    "## Tobias, Emil, Oliver og Peter"
   ]
  }
 ],
 "metadata": {
  "language_info": {
   "name": "python"
  }
 },
 "nbformat": 4,
 "nbformat_minor": 2
}
